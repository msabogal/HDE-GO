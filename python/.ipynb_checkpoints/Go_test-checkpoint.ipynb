{
 "cells": [
  {
   "cell_type": "code",
   "execution_count": 43,
   "metadata": {},
   "outputs": [],
   "source": [
    "from classy import Class\n",
    "from pylab import *\n",
    "import numpy as np\n",
    "import matplotlib . pyplot as plt"
   ]
  },
  {
   "cell_type": "code",
   "execution_count": 70,
   "metadata": {},
   "outputs": [],
   "source": [
    "params = {\n",
    "    'H0': 67.69 , \n",
    "    'T_cmb': 2.725,\n",
    "    'omega_b': 0.02245,\n",
    "    'omega_cdm': 0.1197,\n",
    "    'n_s': 0.9718,\n",
    "    'ln10^{10}A_s': 3.0335,\n",
    "    'tau_reio': 0.0508,\n",
    "    'Omega_Lambda': 0.,\n",
    "    'Omega_k': 0.,\n",
    "    'fluid_equation_of_state': 'GO',\n",
    "    'alpha_GO': 0.9652,\n",
    "    'beta_GO': 0.4826,\n",
    "    'gauge': 'newtonian', \n",
    "    'use_ppf': 'no',\n",
    "    'k_output_values': '0.0001,0.01, 0.1',\n",
    "    'evolver': 0, \n",
    "    'output': 'tCl,mPk,PCl,lCl'}"
   ]
  },
  {
   "cell_type": "code",
   "execution_count": 71,
   "metadata": {},
   "outputs": [],
   "source": [
    "cosmo = Class()"
   ]
  },
  {
   "cell_type": "code",
   "execution_count": 72,
   "metadata": {},
   "outputs": [
    {
     "data": {
      "text/plain": [
       "True"
      ]
     },
     "execution_count": 72,
     "metadata": {},
     "output_type": "execute_result"
    }
   ],
   "source": [
    "cosmo.set(params)"
   ]
  },
  {
   "cell_type": "code",
   "execution_count": 73,
   "metadata": {},
   "outputs": [],
   "source": [
    "cosmo.compute()"
   ]
  },
  {
   "cell_type": "code",
   "execution_count": 77,
   "metadata": {},
   "outputs": [
    {
     "data": {
      "text/plain": [
       "{'bb': array([0., 0., 0., ..., 0., 0., 0.]),\n",
       " 'ee': array([0.00000000e+00, 0.00000000e+00, 3.26163941e-15, ...,\n",
       "        4.13976101e-19, 4.12290610e-19, 4.10564079e-19]),\n",
       " 'ell': array([   0,    1,    2, ..., 2498, 2499, 2500]),\n",
       " 'pp': array([0.00000000e+00, 0.00000000e+00, 6.67091207e-09, ...,\n",
       "        1.06374487e-22, 1.06080075e-22, 1.05786655e-22]),\n",
       " 'te': array([ 0.00000000e+00,  0.00000000e+00,  3.41903622e-13, ...,\n",
       "        -6.75982392e-19, -6.79598866e-19, -6.83157762e-19]),\n",
       " 'tp': array([0.00000000e+00, 0.00000000e+00, 4.88774530e-10, ...,\n",
       "        2.66059778e-22, 2.65433527e-22, 2.64807430e-22]),\n",
       " 'tt': array([0.00000000e+00, 0.00000000e+00, 1.70121951e-10, ...,\n",
       "        8.14043283e-18, 8.13198761e-18, 8.12396016e-18])}"
      ]
     },
     "execution_count": 77,
     "metadata": {},
     "output_type": "execute_result"
    }
   ],
   "source": [
    "cosmo.raw_cl()"
   ]
  },
  {
   "cell_type": "code",
   "execution_count": 10,
   "metadata": {},
   "outputs": [],
   "source": [
    "cl=cosmo.raw_cl() "
   ]
  },
  {
   "cell_type": "code",
   "execution_count": 11,
   "metadata": {},
   "outputs": [],
   "source": [
    "cls=cl.values()"
   ]
  },
  {
   "cell_type": "code",
   "execution_count": 12,
   "metadata": {},
   "outputs": [
    {
     "data": {
      "image/png": "[encoded data removed]",
      "text/plain": [
       "<Figure size 432x288 with 1 Axes>"
      ]
     },
     "metadata": {
      "needs_background": "light"
     },
     "output_type": "display_data"
    }
   ],
   "source": [
    "ell=cls[1][2:]\n",
    "CL=cls[0][2:]\n",
    "plot(ell,ell*(ell+1.)/2/pi*CL)\n",
    "yscale('log')\n",
    "xscale('log')\n",
    "show()"
   ]
  },
  {
   "cell_type": "code",
   "execution_count": 76,
   "metadata": {},
   "outputs": [],
   "source": [
    "datos=np.array([0,0]); \n",
    "for i in range(0,ell.size):\n",
    "    datos=np.vstack([datos,np.array([ell[i],ell[i]*(ell[i]+1.)/2/pi*CL[i]]) ])\n",
    "datos= datos[1:]    "
   ]
  },
  {
   "cell_type": "code",
   "execution_count": 81,
   "metadata": {},
   "outputs": [],
   "source": [
    "np.savetxt('/home/miguel/class/output/mymodelGOpy_cl.dat',datos,delimiter = '    ')"
   ]
  },
  {
   "cell_type": "code",
   "execution_count": 39,
   "metadata": {},
   "outputs": [
    {
     "data": {
      "text/plain": [
       "array([1.16062000e-05, 2.97384507e-03, 5.93608394e-03, 8.89832280e-03,\n",
       "       1.18605617e-02, 1.48228005e-02, 1.77850394e-02, 2.07472783e-02,\n",
       "       2.37095171e-02, 2.66717560e-02, 2.96339949e-02, 3.25962338e-02,\n",
       "       3.55584726e-02, 3.85207115e-02, 4.14829504e-02, 4.44451892e-02,\n",
       "       4.74074281e-02, 5.03696670e-02, 5.33319058e-02, 5.62941447e-02,\n",
       "       5.92563836e-02, 6.22186224e-02, 6.51808613e-02, 6.81431002e-02,\n",
       "       7.11053390e-02, 7.40675779e-02, 7.70298168e-02, 7.99920556e-02,\n",
       "       8.29542945e-02, 8.59165334e-02, 8.88787722e-02, 9.18410111e-02,\n",
       "       9.48032500e-02, 9.77654889e-02, 1.00727728e-01, 1.03689967e-01,\n",
       "       1.06652205e-01, 1.09614444e-01, 1.12576683e-01, 1.15538922e-01,\n",
       "       1.18501161e-01, 1.21463400e-01, 1.24425639e-01, 1.27387878e-01,\n",
       "       1.30350116e-01, 1.33312355e-01, 1.36274594e-01, 1.39236833e-01,\n",
       "       1.42199072e-01, 1.45161311e-01, 1.48123550e-01, 1.51085788e-01,\n",
       "       1.54048027e-01, 1.57010266e-01, 1.59972505e-01, 1.62934744e-01,\n",
       "       1.65896983e-01, 1.68859222e-01, 1.71821461e-01, 1.74783699e-01,\n",
       "       1.77745938e-01, 1.80708177e-01, 1.83670416e-01, 1.86632655e-01,\n",
       "       1.89594894e-01, 1.92557133e-01, 1.95519372e-01, 1.98481610e-01,\n",
       "       2.01443849e-01, 2.04406088e-01, 2.07368327e-01, 2.10330566e-01,\n",
       "       2.13292805e-01, 2.16255044e-01, 2.19217282e-01, 2.22179521e-01,\n",
       "       2.25141760e-01, 2.28103999e-01, 2.31066238e-01, 2.34028477e-01,\n",
       "       2.36990716e-01, 2.39952955e-01, 2.42915193e-01, 2.45877432e-01,\n",
       "       2.48839671e-01, 2.51801910e-01, 2.54764149e-01, 2.57726388e-01,\n",
       "       2.60688627e-01, 2.63650865e-01, 2.66613104e-01, 2.69575343e-01,\n",
       "       2.72537582e-01, 2.75499821e-01, 2.78462060e-01, 2.81424299e-01,\n",
       "       2.84386538e-01, 2.87348776e-01, 2.90311015e-01, 2.93273254e-01,\n",
       "       2.96235493e-01, 2.99197732e-01, 3.02159971e-01, 3.05122210e-01,\n",
       "       3.08084449e-01, 3.11046687e-01, 3.14008926e-01, 3.16971165e-01,\n",
       "       3.19933404e-01, 3.22895643e-01, 3.25857882e-01, 3.28820121e-01,\n",
       "       3.31782359e-01, 3.34744598e-01, 3.37706837e-01, 3.40669076e-01,\n",
       "       3.43631315e-01, 3.46593554e-01, 3.49555793e-01, 3.52518032e-01,\n",
       "       3.55480270e-01, 3.58442509e-01, 3.61404748e-01, 3.64366987e-01,\n",
       "       3.67329226e-01, 3.70291465e-01, 3.73253704e-01, 3.76215942e-01,\n",
       "       3.79178181e-01, 3.82140420e-01, 3.85102659e-01, 3.88064898e-01,\n",
       "       3.91027137e-01, 3.93989376e-01, 3.96951615e-01, 3.99913853e-01,\n",
       "       4.02876092e-01, 4.05838331e-01, 4.08800570e-01, 4.11762809e-01,\n",
       "       4.14725048e-01, 4.17687287e-01, 4.20649525e-01, 4.23611764e-01,\n",
       "       4.26574003e-01, 4.29536242e-01, 4.32498481e-01, 4.35460720e-01,\n",
       "       4.38422959e-01, 4.41385198e-01, 4.44347436e-01, 4.47309675e-01,\n",
       "       4.50271914e-01, 4.53234153e-01, 4.56196392e-01, 4.59158631e-01,\n",
       "       4.62120870e-01, 4.65083109e-01, 4.68045347e-01, 4.71007586e-01,\n",
       "       4.73969825e-01, 4.76932064e-01, 4.79894303e-01, 4.82856542e-01,\n",
       "       4.85818781e-01, 4.88781019e-01, 4.91743258e-01, 4.94705497e-01,\n",
       "       4.97667736e-01, 5.00629975e-01, 5.03592214e-01, 5.06554453e-01,\n",
       "       5.09516692e-01, 5.12478930e-01, 5.15441169e-01, 5.18403408e-01,\n",
       "       5.21365647e-01, 5.24327886e-01, 5.27290125e-01, 5.30252364e-01,\n",
       "       5.33214602e-01, 5.36176841e-01, 5.39139080e-01, 5.42101319e-01,\n",
       "       5.45063558e-01, 5.48025797e-01, 5.50988036e-01, 5.53950275e-01,\n",
       "       5.56912513e-01, 5.59874752e-01, 5.62836991e-01, 5.65799230e-01,\n",
       "       5.68761469e-01, 5.71723708e-01, 5.74685947e-01, 5.77648186e-01,\n",
       "       5.80610424e-01, 5.83572663e-01, 5.86534902e-01, 5.89497141e-01,\n",
       "       5.92459380e-01, 5.95421619e-01, 5.98383858e-01, 6.01346096e-01,\n",
       "       6.04308335e-01, 6.07270574e-01, 6.10232813e-01, 6.13195052e-01,\n",
       "       6.16157291e-01, 6.19119530e-01, 6.22081769e-01, 6.25044007e-01,\n",
       "       6.28006246e-01, 6.30968485e-01, 6.33930724e-01, 6.36892963e-01,\n",
       "       6.39855202e-01, 6.42817441e-01, 6.45779679e-01, 6.48741918e-01,\n",
       "       6.51704157e-01, 6.54666396e-01, 6.57628635e-01, 6.60590874e-01,\n",
       "       6.63553113e-01, 6.66515352e-01, 6.69477590e-01, 6.72439829e-01,\n",
       "       6.75402068e-01, 6.78364307e-01, 6.81326546e-01, 6.84288785e-01,\n",
       "       6.87251024e-01, 6.90213263e-01, 6.93175501e-01, 6.96137740e-01,\n",
       "       6.99099979e-01, 7.02062218e-01, 7.05024457e-01, 7.07986696e-01,\n",
       "       7.10948935e-01, 7.13911173e-01, 7.16873412e-01, 7.19835651e-01,\n",
       "       7.22797890e-01, 7.25760129e-01, 7.28722368e-01, 7.31684607e-01,\n",
       "       7.34646846e-01, 7.37609084e-01, 7.40571323e-01, 7.43533562e-01,\n",
       "       7.46495801e-01, 7.49458040e-01, 7.52420279e-01, 7.55382518e-01,\n",
       "       7.58344756e-01, 7.61306995e-01, 7.64269234e-01, 7.67231473e-01,\n",
       "       7.70193712e-01, 7.73155951e-01, 7.76118190e-01, 7.79080429e-01,\n",
       "       7.82042667e-01, 7.85004906e-01, 7.87967145e-01, 7.90929384e-01,\n",
       "       7.93891623e-01, 7.96853862e-01, 7.99816101e-01, 8.02778340e-01,\n",
       "       8.05740578e-01, 8.08702817e-01, 8.11665056e-01, 8.14627295e-01,\n",
       "       8.17589534e-01, 8.20551773e-01, 8.23514012e-01, 8.26476250e-01,\n",
       "       8.29438489e-01, 8.32400728e-01, 8.35362967e-01, 8.38325206e-01,\n",
       "       8.41287445e-01, 8.44249684e-01, 8.47211923e-01, 8.50174161e-01,\n",
       "       8.53136400e-01, 8.56098639e-01, 8.59060878e-01, 8.62023117e-01,\n",
       "       8.64985356e-01, 8.67947595e-01, 8.70909833e-01, 8.73872072e-01,\n",
       "       8.76834311e-01, 8.79796550e-01, 8.82758789e-01, 8.85721028e-01,\n",
       "       8.88683267e-01, 8.91645506e-01, 8.94607744e-01, 8.97569983e-01,\n",
       "       9.00532222e-01, 9.03494461e-01, 9.06456700e-01, 9.09418939e-01,\n",
       "       9.12381178e-01, 9.15343417e-01, 9.18305655e-01, 9.21267894e-01,\n",
       "       9.24230133e-01, 9.27192372e-01, 9.30154611e-01, 9.33116850e-01,\n",
       "       9.36079089e-01, 9.39041327e-01, 9.42003566e-01, 9.44965805e-01,\n",
       "       9.47928044e-01, 9.50890283e-01, 9.53852522e-01, 9.56814761e-01,\n",
       "       9.59777000e-01, 9.62739238e-01, 9.65701477e-01, 9.68663716e-01,\n",
       "       9.71625955e-01, 9.74588194e-01, 9.77550433e-01, 9.80512672e-01,\n",
       "       9.83474910e-01, 9.86437149e-01, 9.89399388e-01, 9.92361627e-01,\n",
       "       9.95323866e-01, 9.98286105e-01, 1.00124834e+00, 1.00421058e+00,\n",
       "       1.00717282e+00, 1.01013506e+00, 1.01309730e+00, 1.01605954e+00,\n",
       "       1.01902178e+00, 1.02198402e+00, 1.02494625e+00, 1.02790849e+00,\n",
       "       1.03087073e+00, 1.03383297e+00, 1.03679521e+00, 1.03975745e+00,\n",
       "       1.04271969e+00, 1.04568193e+00, 1.04864417e+00, 1.05160640e+00,\n",
       "       1.05456864e+00, 1.05753088e+00, 1.06049312e+00, 1.06345536e+00,\n",
       "       1.06641760e+00, 1.06937984e+00, 1.07234208e+00, 1.07530432e+00,\n",
       "       1.07826655e+00, 1.08122879e+00, 1.08419103e+00, 1.08715327e+00,\n",
       "       1.09011551e+00, 1.09307775e+00, 1.09603999e+00, 1.09900223e+00,\n",
       "       1.10196447e+00, 1.10492670e+00, 1.10788894e+00, 1.11085118e+00,\n",
       "       1.11381342e+00, 1.11677566e+00, 1.11973790e+00, 1.12270014e+00,\n",
       "       1.12566238e+00, 1.12862462e+00, 1.13158685e+00, 1.13454909e+00,\n",
       "       1.13751133e+00, 1.14047357e+00, 1.14343581e+00, 1.14639805e+00,\n",
       "       1.14936029e+00, 1.15232253e+00, 1.15528476e+00, 1.15824700e+00,\n",
       "       1.16120924e+00, 1.16417148e+00, 1.16713372e+00, 1.17009596e+00,\n",
       "       1.17305820e+00, 1.17602044e+00, 1.17898268e+00, 1.18194491e+00,\n",
       "       1.18490715e+00, 1.18786939e+00, 1.19083163e+00, 1.19379387e+00,\n",
       "       1.19675611e+00, 1.19971835e+00, 1.20268059e+00, 1.20564283e+00,\n",
       "       1.20860506e+00, 1.21156730e+00, 1.21452954e+00, 1.21749178e+00,\n",
       "       1.22045402e+00, 1.22341626e+00, 1.22637850e+00, 1.22934074e+00,\n",
       "       1.23230298e+00, 1.23526521e+00, 1.23822745e+00, 1.24118969e+00,\n",
       "       1.24415193e+00, 1.24711417e+00, 1.25007641e+00, 1.25303865e+00,\n",
       "       1.25600089e+00, 1.25896313e+00, 1.26192536e+00, 1.26488760e+00,\n",
       "       1.26784984e+00, 1.27081208e+00, 1.27377432e+00, 1.27673656e+00,\n",
       "       1.27969880e+00, 1.28266104e+00, 1.28562328e+00, 1.28858551e+00,\n",
       "       1.29154775e+00, 1.29450999e+00, 1.29747223e+00, 1.30043447e+00,\n",
       "       1.30339671e+00, 1.30635895e+00, 1.30932119e+00, 1.31228342e+00,\n",
       "       1.31524566e+00, 1.31820790e+00, 1.32117014e+00, 1.32413238e+00,\n",
       "       1.32709462e+00, 1.33005686e+00, 1.33301910e+00, 1.33598134e+00,\n",
       "       1.33894357e+00, 1.34190581e+00, 1.34486805e+00, 1.34783029e+00,\n",
       "       1.35079253e+00, 1.35375477e+00, 1.35671701e+00, 1.35967925e+00,\n",
       "       1.36264149e+00, 1.36560372e+00, 1.36856596e+00, 1.37152820e+00,\n",
       "       1.37449044e+00, 1.37745268e+00, 1.38041492e+00, 1.38337716e+00,\n",
       "       1.38633940e+00, 1.38930164e+00, 1.39226387e+00, 1.39522611e+00,\n",
       "       1.39818835e+00, 1.40115059e+00, 1.40411283e+00, 1.40707507e+00,\n",
       "       1.41003731e+00, 1.41299955e+00, 1.41596179e+00, 1.41892402e+00,\n",
       "       1.42188626e+00, 1.42484850e+00, 1.42781074e+00, 1.43077298e+00,\n",
       "       1.43373522e+00, 1.43669746e+00, 1.43965970e+00, 1.44262194e+00,\n",
       "       1.44558417e+00, 1.44854641e+00, 1.45150865e+00, 1.45447089e+00,\n",
       "       1.45743313e+00, 1.46039537e+00, 1.46335761e+00, 1.46631985e+00,\n",
       "       1.46928208e+00, 1.47224432e+00, 1.47520656e+00, 1.47816880e+00,\n",
       "       1.48113104e+00, 1.48409328e+00, 1.48705552e+00, 1.49001776e+00,\n",
       "       1.49298000e+00, 1.49594223e+00, 1.49890447e+00, 1.50186671e+00,\n",
       "       1.50482895e+00, 1.50779119e+00, 1.51075343e+00, 1.51371567e+00,\n",
       "       1.51667791e+00, 1.51964015e+00, 1.52260238e+00, 1.52556462e+00,\n",
       "       1.52852686e+00, 1.53148910e+00, 1.53445134e+00, 1.53741358e+00,\n",
       "       1.54037582e+00, 1.54333806e+00, 1.54630030e+00, 1.54926253e+00,\n",
       "       1.55222477e+00, 1.55518701e+00, 1.55814925e+00, 1.56111149e+00,\n",
       "       1.56407373e+00, 1.56703597e+00, 1.56999821e+00, 1.57296045e+00,\n",
       "       1.57592268e+00, 1.57888492e+00, 1.58184716e+00, 1.58480940e+00,\n",
       "       1.58777164e+00, 1.59073388e+00, 1.59369612e+00, 1.59665836e+00,\n",
       "       1.59962060e+00, 1.60258283e+00, 1.60554507e+00, 1.60850731e+00,\n",
       "       1.61146955e+00, 1.61443179e+00, 1.61739403e+00, 1.62035627e+00,\n",
       "       1.62331851e+00, 1.62628074e+00, 1.62924298e+00, 1.63220522e+00,\n",
       "       1.63516746e+00, 1.63812970e+00, 1.64109194e+00, 1.64405418e+00,\n",
       "       1.64701642e+00, 1.64997866e+00, 1.65294089e+00, 1.65590313e+00,\n",
       "       1.65886537e+00, 1.66182761e+00, 1.66478985e+00, 1.66775209e+00,\n",
       "       1.67071433e+00, 1.67367657e+00, 1.67663881e+00, 1.67960104e+00,\n",
       "       1.68256328e+00, 1.68552552e+00, 1.68848776e+00, 1.69145000e+00])"
      ]
     },
     "execution_count": 39,
     "metadata": {},
     "output_type": "execute_result"
    }
   ],
   "source": [
    "np.linspace(1.16062e-05,1.69145,572)"
   ]
  },
  {
   "cell_type": "code",
   "execution_count": 60,
   "metadata": {},
   "outputs": [],
   "source": [
    "kk = np.linspace(1.16062e-05, 1.106735430664,572) # k in h/ Mpc\n",
    "Pk = [] # P(k) in ( Mpc /h) **3\n",
    "h = cosmo.h() # get reduced Hubble for conversions to 1/ Mpc\n",
    "for k in kk :\n",
    "    Pk.append(cosmo.pk(k*h ,0.)*h **3) # function .pk(k,z)"
   ]
  },
  {
   "cell_type": "code",
   "execution_count": 61,
   "metadata": {},
   "outputs": [
    {
     "data": {
      "text/plain": [
       "[<matplotlib.lines.Line2D at 0x7fcf0d60b850>]"
      ]
     },
     "execution_count": 61,
     "metadata": {},
     "output_type": "execute_result"
    },
    {
     "data": {
      "image/png": "[encoded data removed]",
      "text/plain": [
       "<Figure size 432x288 with 1 Axes>"
      ]
     },
     "metadata": {
      "needs_background": "light"
     },
     "output_type": "display_data"
    }
   ],
   "source": [
    "plt.figure(2)\n",
    "plt.xscale ('log'); plt.yscale('log'); #plt.xlim(kk[0],kk[ -1])\n",
    "plt.plot(kk ,Pk ,'b-')"
   ]
  },
  {
   "cell_type": "code",
   "execution_count": null,
   "metadata": {},
   "outputs": [],
   "source": []
  }
 ],
 "metadata": {
  "kernelspec": {
   "display_name": "Python 2",
   "language": "python",
   "name": "python2"
  },
  "language_info": {
   "codemirror_mode": {
    "name": "ipython",
    "version": 2
   },
   "file_extension": ".py",
   "mimetype": "text/x-python",
   "name": "python",
   "nbconvert_exporter": "python",
   "pygments_lexer": "ipython2",
   "version": "2.7.16"
  }
 },
 "nbformat": 4,
 "nbformat_minor": 2
}
