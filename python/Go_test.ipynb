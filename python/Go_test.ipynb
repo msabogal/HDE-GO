{
 "cells": [
  {
   "cell_type": "code",
   "execution_count": 1,
   "metadata": {},
   "outputs": [],
   "source": [
    "from classy import Class\n",
    "from pylab import *\n",
    "import numpy as np\n",
    "import matplotlib . pyplot as plt"
   ]
  },
  {
   "cell_type": "code",
   "execution_count": 13,
   "metadata": {},
   "outputs": [],
   "source": [
    "params = {\n",
    "    'H0': 67.69 , \n",
    "    'T_cmb': 2.725,\n",
    "    'omega_b': 0.02245,\n",
    "    'omega_cdm': 0.1197,\n",
    "    'n_s': 0.9718,\n",
    "    'ln10^{10}A_s': 3.0335,\n",
    "    'tau_reio': 0.0508,\n",
    "    'Omega_Lambda': 0.,\n",
    "    'Omega_k': 0.,\n",
    "    'fluid_equation_of_state': 'GO',\n",
    "    'alpha_GO': 0.9652,\n",
    "    'beta_GO': 0.4826,\n",
    "    'gauge': 'newtonian', \n",
    "    'use_ppf': 'no',\n",
    "    'k_output_values': '0.0001,0.01, 0.1',\n",
    "    'evolver': 0, \n",
    "    'output': 'tCl,mPk'}"
   ]
  },
  {
   "cell_type": "code",
   "execution_count": 14,
   "metadata": {},
   "outputs": [],
   "source": [
    "cosmo = Class()"
   ]
  },
  {
   "cell_type": "code",
   "execution_count": 15,
   "metadata": {},
   "outputs": [
    {
     "data": {
      "text/plain": [
       "True"
      ]
     },
     "execution_count": 15,
     "metadata": {},
     "output_type": "execute_result"
    }
   ],
   "source": [
    "cosmo.set(params)"
   ]
  },
  {
   "cell_type": "code",
   "execution_count": 16,
   "metadata": {},
   "outputs": [],
   "source": [
    "cosmo.compute()"
   ]
  },
  {
   "cell_type": "code",
   "execution_count": 17,
   "metadata": {},
   "outputs": [
    {
     "data": {
      "text/plain": [
       "{'ell': array([   0,    1,    2, ..., 2498, 2499, 2500]),\n",
       " 'tt': array([0.00000000e+00, 0.00000000e+00, 1.70121975e-10, ...,\n",
       "        8.14043283e-18, 8.13198740e-18, 8.12395972e-18])}"
      ]
     },
     "execution_count": 17,
     "metadata": {},
     "output_type": "execute_result"
    }
   ],
   "source": [
    "cosmo.raw_cl()"
   ]
  },
  {
   "cell_type": "code",
   "execution_count": 18,
   "metadata": {},
   "outputs": [],
   "source": [
    "cl=cosmo.raw_cl() "
   ]
  },
  {
   "cell_type": "code",
   "execution_count": 19,
   "metadata": {},
   "outputs": [],
   "source": [
    "cls=cl.values()"
   ]
  },
  {
   "cell_type": "code",
   "execution_count": 20,
   "metadata": {},
   "outputs": [
    {
     "data": {
      "image/png": "[encoded data removed]",
      "text/plain": [
       "<Figure size 432x288 with 1 Axes>"
      ]
     },
     "metadata": {
      "needs_background": "light"
     },
     "output_type": "display_data"
    }
   ],
   "source": [
    "ell=cls[1][2:]\n",
    "CL=cls[0][2:]\n",
    "plot(ell,ell*(ell+1.)/2/pi*CL)\n",
    "yscale('log')\n",
    "xscale('log')\n",
    "show()"
   ]
  },
  {
   "cell_type": "code",
   "execution_count": 76,
   "metadata": {},
   "outputs": [],
   "source": [
    "datos=np.array([0,0]); \n",
    "for i in range(0,ell.size):\n",
    "    datos=np.vstack([datos,np.array([ell[i],ell[i]*(ell[i]+1.)/2/pi*CL[i]]) ])\n",
    "datos= datos[1:]    "
   ]
  },
  {
   "cell_type": "code",
   "execution_count": 81,
   "metadata": {},
   "outputs": [],
   "source": [
    "np.savetxt('/home/miguel/class/output/mymodelGOpy_cl.dat',datos,delimiter = '    ')"
   ]
  },
  {
   "cell_type": "code",
   "execution_count": 21,
   "metadata": {},
   "outputs": [],
   "source": [
    "kk = np.linspace(1.16062e-05, 1.106735430664,572) # k in h/ Mpc\n",
    "Pk = [] # P(k) in ( Mpc /h) **3\n",
    "h = cosmo.h() # get reduced Hubble for conversions to 1/ Mpc\n",
    "for k in kk :\n",
    "    Pk.append(cosmo.pk(k*h ,0.)*h **3) # function .pk(k,z)"
   ]
  },
  {
   "cell_type": "code",
   "execution_count": 22,
   "metadata": {},
   "outputs": [
    {
     "data": {
      "text/plain": [
       "[<matplotlib.lines.Line2D at 0x7fece919c510>]"
      ]
     },
     "execution_count": 22,
     "metadata": {},
     "output_type": "execute_result"
    },
    {
     "data": {
      "image/png": "[encoded data removed]",
      "text/plain": [
       "<Figure size 432x288 with 1 Axes>"
      ]
     },
     "metadata": {
      "needs_background": "light"
     },
     "output_type": "display_data"
    }
   ],
   "source": [
    "plt.figure(2)\n",
    "plt.xscale ('log'); plt.yscale('log'); #plt.xlim(kk[0],kk[ -1])\n",
    "plt.plot(kk ,Pk ,'b-')"
   ]
  },
  {
   "cell_type": "code",
   "execution_count": null,
   "metadata": {},
   "outputs": [],
   "source": []
  }
 ],
 "metadata": {
  "kernelspec": {
   "display_name": "Python 2",
   "language": "python",
   "name": "python2"
  },
  "language_info": {
   "codemirror_mode": {
    "name": "ipython",
    "version": 2
   },
   "file_extension": ".py",
   "mimetype": "text/x-python",
   "name": "python",
   "nbconvert_exporter": "python",
   "pygments_lexer": "ipython2",
   "version": "2.7.16"
  }
 },
 "nbformat": 4,
 "nbformat_minor": 2
}
